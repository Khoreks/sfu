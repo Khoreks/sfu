{
 "cells": [
  {
   "cell_type": "markdown",
   "metadata": {},
   "source": [
    "# Лабораторная работа №1 Вычисление переменных и их анализ\n",
    "### Импортируем библиотеки"
   ]
  },
  {
   "cell_type": "code",
   "execution_count": 1,
   "metadata": {},
   "outputs": [],
   "source": [
    "import numpy as np\n",
    "import pandas as pd\n",
    "%matplotlib 224387.92inline"
   ]
  },
  {
   "cell_type": "markdown",
   "metadata": {},
   "source": [
    "### Генерация выборки \n",
    "Для генерации данных по нормальному распределению используем метод **normal()** для генератора библиотеки **Numpy**\n",
    "**numpy.random.Generator.normal(loc=0.0, scale=1.0, size=None)**   \n",
    "**Parameters:**  \n",
    "\n",
    "**loc** : Mean (“centre”) of the distribution.\n",
    "\n",
    "**scale**: Standard deviation (spread or “width”) of the distribution. Must be non-negative.\n",
    "\n",
    "**size**: set tensor size\n",
    "\n",
    "**Returns**: Drawn samples from the parameterized normal distribution.\n",
    "\n",
    "### Данные для генерации\n",
    "Mean:15   \n",
    "std:8   \n",
    "size:50   \n",
    "\n",
    "### Анализ данных\n",
    "Для создания описательной статистики данных используем метод **describe()** библиотеки **Pandas**   \n",
    "Так как дисперсия не входит в стандартное статистическое описание выборки методом describe(), то добавим этот параметр с помощью метода **var()**.\n",
    "Далее добавляем строку Despersion в DataFrame с статистическими данными выборки.\n",
    "С помощью метода **hist()** библиотеки **Pandas** построим гистограмму."
   ]
  },
  {
   "cell_type": "code",
   "execution_count": 15,
   "metadata": {},
   "outputs": [
    {
     "data": {
      "text/html": [
       "<div>\n",
       "<style scoped>\n",
       "    .dataframe tbody tr th:only-of-type {\n",
       "        vertical-align: middle;\n",
       "    }\n",
       "\n",
       "    .dataframe tbody tr th {\n",
       "        vertical-align: top;\n",
       "    }\n",
       "\n",
       "    .dataframe thead th {\n",
       "        text-align: right;\n",
       "    }\n",
       "</style>\n",
       "<table border=\"1\" class=\"dataframe\">\n",
       "  <thead>\n",
       "    <tr style=\"text-align: right;\">\n",
       "      <th></th>\n",
       "      <th>0</th>\n",
       "    </tr>\n",
       "  </thead>\n",
       "  <tbody>\n",
       "    <tr>\n",
       "      <th>count</th>\n",
       "      <td>50.000000</td>\n",
       "    </tr>\n",
       "    <tr>\n",
       "      <th>mean</th>\n",
       "      <td>15.803933</td>\n",
       "    </tr>\n",
       "    <tr>\n",
       "      <th>std</th>\n",
       "      <td>7.917666</td>\n",
       "    </tr>\n",
       "    <tr>\n",
       "      <th>min</th>\n",
       "      <td>-3.490735</td>\n",
       "    </tr>\n",
       "    <tr>\n",
       "      <th>25%</th>\n",
       "      <td>10.337321</td>\n",
       "    </tr>\n",
       "    <tr>\n",
       "      <th>50%</th>\n",
       "      <td>15.935844</td>\n",
       "    </tr>\n",
       "    <tr>\n",
       "      <th>75%</th>\n",
       "      <td>20.604324</td>\n",
       "    </tr>\n",
       "    <tr>\n",
       "      <th>max</th>\n",
       "      <td>38.463510</td>\n",
       "    </tr>\n",
       "    <tr>\n",
       "      <th>Despersion</th>\n",
       "      <td>62.689437</td>\n",
       "    </tr>\n",
       "  </tbody>\n",
       "</table>\n",
       "</div>"
      ],
      "text/plain": [
       "                    0\n",
       "count       50.000000\n",
       "mean        15.803933\n",
       "std          7.917666\n",
       "min         -3.490735\n",
       "25%         10.337321\n",
       "50%         15.935844\n",
       "75%         20.604324\n",
       "max         38.463510\n",
       "Despersion  62.689437"
      ]
     },
     "execution_count": 15,
     "metadata": {},
     "output_type": "execute_result"
    },
    {
     "data": {
      "image/png": "[encoded data removed]",
      "text/plain": [
       "<Figure size 432x288 with 1 Axes>"
      ]
     },
     "metadata": {
      "needs_background": "light"
     },
     "output_type": "display_data"
    }
   ],
   "source": [
    "X = pd.DataFrame(np.random.default_rng().normal(15,8,50)) # генерация выборки\n",
    "X.hist() #построение гистограммы\n",
    "X_stats= X.describe() #получение основных статистических данных по выборке\n",
    "X_stats.loc['Despersion', 0] = X.var()[0] #добавление дисперсии\n",
    "X_stats "
   ]
  },
  {
   "cell_type": "markdown",
   "metadata": {},
   "source": [
    "# Заключение\n",
    "\n",
    "В ходе работы мной была сгенерирована выборка с использованием нормального распределения. А также произведен минимальный статистический анализ данных. По выборке была построена гистограмма.\n"
   ]
  }
 ],
 "metadata": {
  "kernelspec": {
   "display_name": "Python 3",
   "language": "python",
   "name": "python3"
  },
  "language_info": {
   "codemirror_mode": {
    "name": "ipython",
    "version": 3
   },
   "file_extension": ".py",
   "mimetype": "text/x-python",
   "name": "python",
   "nbconvert_exporter": "python",
   "pygments_lexer": "ipython3",
   "version": "3.8.5"
  }
 },
 "nbformat": 4,
 "nbformat_minor": 2
}
